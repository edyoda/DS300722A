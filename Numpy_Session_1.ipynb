{
  "cells": [
    {
      "cell_type": "markdown",
      "metadata": {
        "id": "aM3lKRW9ebJO"
      },
      "source": [
        "# What is the NumPy library in Python?"
      ]
    },
    {
      "cell_type": "markdown",
      "metadata": {
        "id": "uzRUDeO0ebJU"
      },
      "source": [
        "<div class=\"alert alert-block alert-success\">\n",
        "\n",
        "**NumPy** stands for **Numerical Python** and is one of the most useful scientific libraries in Python programming.<br>\n",
        "It provides support for large multidimensional array objects and various tools to work with them. <br><br>\n",
        "\n",
        "Other well known Python Libraries :<br>\n",
        "**Pandas :** Pandas for data extraction and preparation. <br>\n",
        "**Matplotlib :** Matplotlib for data visualization. <br>\n",
        "**Scikit-learn :** Scikit-learn for implementing machine learning algorithms. <br><br>\n",
        "    \n",
        "**About Numpy Library:**<br>\n",
        "\n",
        "<li>It is foundation of python programming for machine learning: Pandas,Scipy & Scikit-learn is built using numpy .<br>\n",
        "<li>Multi-dimensional Data structure.<br>\n",
        "<li>Homogenous Data thus its fast.<br>\n",
        "<li>It has huge mathematical library available on it for doing numerical computation.<br>\n",
        "\n",
        "\n",
        "\n",
        "    \n",
        "</div>"
      ]
    },
    {
      "cell_type": "markdown",
      "metadata": {
        "id": "z8dm3r84ebJW"
      },
      "source": [
        "# Application of Numpy"
      ]
    },
    {
      "cell_type": "markdown",
      "metadata": {
        "id": "hNGLC5l-ebJX"
      },
      "source": [
        "<div class=\"alert alert-block alert-success\">\n",
        "    <b>1. To analyse data and to apply mathematical operations on data.<br>\n",
        "\t2. To build ML algorithms : To init/update weights. <br>\n",
        "    3. Image processing . <br></b>\n",
        "\n",
        "</div>"
      ]
    },
    {
      "cell_type": "code",
      "source": [
        "!pip install pyforest"
      ],
      "metadata": {
        "id": "FRBwkfdrxYTa"
      },
      "execution_count": null,
      "outputs": []
    },
    {
      "cell_type": "code",
      "execution_count": 24,
      "metadata": {
        "id": "FUu1cQQJebJY"
      },
      "outputs": [],
      "source": [
        "##Importing Numpy package\n",
        "import numpy as np\n",
        "#import pyforest"
      ]
    },
    {
      "cell_type": "code",
      "source": [
        "type([45,56,78,87,98])"
      ],
      "metadata": {
        "colab": {
          "base_uri": "https://localhost:8080/"
        },
        "id": "_gl85j10yrCh",
        "outputId": "40065787-b0d3-4da1-9661-7cf9f30474ff"
      },
      "execution_count": 57,
      "outputs": [
        {
          "output_type": "execute_result",
          "data": {
            "text/plain": [
              "list"
            ]
          },
          "metadata": {},
          "execution_count": 57
        }
      ]
    },
    {
      "cell_type": "code",
      "execution_count": 25,
      "metadata": {
        "id": "cvi5Wgi6ebJZ"
      },
      "outputs": [],
      "source": [
        "np_weight = np.array([45,56,78,87,98])"
      ]
    },
    {
      "cell_type": "code",
      "source": [
        "type(np_weight)"
      ],
      "metadata": {
        "colab": {
          "base_uri": "https://localhost:8080/"
        },
        "id": "69JidKMrytKi",
        "outputId": "cb0029a4-f0ac-4ede-b7a6-3f54a4cad94f"
      },
      "execution_count": 58,
      "outputs": [
        {
          "output_type": "execute_result",
          "data": {
            "text/plain": [
              "numpy.ndarray"
            ]
          },
          "metadata": {},
          "execution_count": 58
        }
      ]
    },
    {
      "cell_type": "code",
      "execution_count": 26,
      "metadata": {
        "id": "udxeco8aebJa",
        "outputId": "c196234d-5f50-4192-85dc-6339f4125b3f",
        "colab": {
          "base_uri": "https://localhost:8080/"
        }
      },
      "outputs": [
        {
          "output_type": "execute_result",
          "data": {
            "text/plain": [
              "array([45, 56, 78, 87, 98])"
            ]
          },
          "metadata": {},
          "execution_count": 26
        }
      ],
      "source": [
        "np_weight"
      ]
    },
    {
      "cell_type": "code",
      "execution_count": 27,
      "metadata": {
        "id": "RheXtyE5ebJc"
      },
      "outputs": [],
      "source": [
        "list_we=[45,56,78,87,98]"
      ]
    },
    {
      "cell_type": "code",
      "execution_count": 28,
      "metadata": {
        "id": "pZap8yMDebJd",
        "outputId": "028b20e8-7491-4c8b-acdc-05f0dba47197",
        "colab": {
          "base_uri": "https://localhost:8080/"
        }
      },
      "outputs": [
        {
          "output_type": "execute_result",
          "data": {
            "text/plain": [
              "numpy.ndarray"
            ]
          },
          "metadata": {},
          "execution_count": 28
        }
      ],
      "source": [
        "type(np_weight)"
      ]
    },
    {
      "cell_type": "code",
      "execution_count": 29,
      "metadata": {
        "id": "LuGL04TMebJe",
        "outputId": "f60dd5ed-22da-4e59-d9d7-c67d19bc28da",
        "colab": {
          "base_uri": "https://localhost:8080/"
        }
      },
      "outputs": [
        {
          "output_type": "execute_result",
          "data": {
            "text/plain": [
              "[45, 56, 78, 87, 98]"
            ]
          },
          "metadata": {},
          "execution_count": 29
        }
      ],
      "source": [
        "list_we"
      ]
    },
    {
      "cell_type": "code",
      "execution_count": 30,
      "metadata": {
        "id": "wO8fEZoAebJe",
        "outputId": "e9e1cbfc-ccff-44dd-bdf8-b5e79308d0ae",
        "colab": {
          "base_uri": "https://localhost:8080/"
        }
      },
      "outputs": [
        {
          "output_type": "execute_result",
          "data": {
            "text/plain": [
              "list"
            ]
          },
          "metadata": {},
          "execution_count": 30
        }
      ],
      "source": [
        "type(list_we)"
      ]
    },
    {
      "cell_type": "markdown",
      "metadata": {
        "id": "C80oFJIdebJf"
      },
      "source": [
        "# Python Lists vs NumPy Arrays – What’s the Difference?"
      ]
    },
    {
      "cell_type": "markdown",
      "metadata": {
        "id": "s4g6Ks6zebJg"
      },
      "source": [
        "<div class=\"alert alert-block alert-success\">\n",
        "\n",
        "\n",
        "<b>1. Memory space - </b> Numpy data structures take up less space<br>\n",
        "<b>2. Performance - </b> they have a need for speed and are faster than lists<br>\n",
        "    \n",
        "    \n",
        "<code style=\"background:yellow;color:black\">The main benefits of using NumPy arrays are smaller memory consumption and better runtime behavior. \n",
        "<b> Vectorization :</b> Elimination of for loops</code>\n",
        "    \n",
        "\t\n",
        "\n",
        "</div>"
      ]
    },
    {
      "cell_type": "code",
      "source": [
        "np.arange(10)"
      ],
      "metadata": {
        "colab": {
          "base_uri": "https://localhost:8080/"
        },
        "id": "HunS8fgS0OD0",
        "outputId": "44edd6b4-2bcf-4502-fcce-4c7b49233d6f"
      },
      "execution_count": 59,
      "outputs": [
        {
          "output_type": "execute_result",
          "data": {
            "text/plain": [
              "array([0, 1, 2, 3, 4, 5, 6, 7, 8, 9])"
            ]
          },
          "metadata": {},
          "execution_count": 59
        }
      ]
    },
    {
      "cell_type": "code",
      "source": [
        "range(10)"
      ],
      "metadata": {
        "colab": {
          "base_uri": "https://localhost:8080/"
        },
        "id": "riIHHYOF0Pl6",
        "outputId": "4b68bc0a-09db-4904-fb56-ee300ecc25ea"
      },
      "execution_count": 60,
      "outputs": [
        {
          "output_type": "execute_result",
          "data": {
            "text/plain": [
              "range(0, 10)"
            ]
          },
          "metadata": {},
          "execution_count": 60
        }
      ]
    },
    {
      "cell_type": "code",
      "execution_count": 64,
      "metadata": {
        "id": "eX3iqsTsebJg",
        "outputId": "b2ef8a1e-c9fb-46dd-ce40-7953e191f693",
        "colab": {
          "base_uri": "https://localhost:8080/"
        }
      },
      "outputs": [
        {
          "output_type": "stream",
          "name": "stdout",
          "text": [
            "1669044990.8743145\n",
            "1669044991.02032\n",
            "python list took : 146.88992500305176\n",
            "numpy array took : 18.755435943603516\n"
          ]
        }
      ],
      "source": [
        "import numpy as np\n",
        "import time\n",
        "size = 1000000  #Size of array \n",
        "\n",
        "### Declare python list\n",
        "L1 = range(size)\n",
        "L2 = range(size)\n",
        "\n",
        "# declare two arrays\n",
        "a1 = np.arange(size)  \n",
        "a2 = np.arange(size)\n",
        "\n",
        "## list\n",
        "start = time.time()\n",
        "print(start)\n",
        "result = [(x+y) for x,y in zip(L1 , L2)]\n",
        "print(time.time())\n",
        "print(\"python list took :\" ,(time.time()-start)*1000 )\n",
        "\n",
        "## numpy array\n",
        "start = time.time()\n",
        "result = a1 + a2\n",
        "print(\"numpy array took :\" ,(time.time() - start)*1000)\n"
      ]
    },
    {
      "cell_type": "code",
      "source": [
        "time.time()"
      ],
      "metadata": {
        "id": "Nxy2l5IQ1Pfm"
      },
      "execution_count": null,
      "outputs": []
    },
    {
      "cell_type": "markdown",
      "metadata": {
        "id": "_v1h1We7ebJh"
      },
      "source": [
        "# Numpy Creation : to init weights"
      ]
    },
    {
      "cell_type": "markdown",
      "metadata": {
        "id": "2gDntjbEebJh"
      },
      "source": [
        "<li>From Python List<br>\n",
        "<li>Zeros<br>\n",
        "<li>Ones<br>\n",
        "<li>Full<br>\n",
        "<li>Random<br>\n"
      ]
    },
    {
      "cell_type": "markdown",
      "metadata": {
        "id": "8Zdiy-eSebJi"
      },
      "source": [
        "## Initialization of 1D array in Python"
      ]
    },
    {
      "cell_type": "markdown",
      "metadata": {
        "id": "ZzV8BgJBebJi"
      },
      "source": [
        "### Initialization from python List\n",
        "numpy.array( list )\n"
      ]
    },
    {
      "cell_type": "markdown",
      "metadata": {
        "id": "29jKNVkKebJi"
      },
      "source": [
        "A numpy array comes with 2 important state variables. Just like Python, it automatically detects dtype (if not mentioned)<br>\n",
        "\n",
        "\n",
        "<li>dtype</li>\n",
        "<li>shape</li>"
      ]
    },
    {
      "cell_type": "code",
      "execution_count": 66,
      "metadata": {
        "scrolled": false,
        "id": "VwhKIkXkebJj",
        "outputId": "424a68e5-06fc-4bca-c494-5446d80595f3",
        "colab": {
          "base_uri": "https://localhost:8080/"
        }
      },
      "outputs": [
        {
          "output_type": "stream",
          "name": "stdout",
          "text": [
            "1D array in numpy is [1 4 9 3 2]\n",
            "\n",
            "dtype of the numpy array is int64\n",
            "\n",
            "1D array in numpy is [1 4 9 3 2]\n"
          ]
        }
      ],
      "source": [
        "\n",
        "# Initializing from Python List\n",
        "v = np.array([1,4,9,3,2])\n",
        "print ('1D array in numpy is %s\\n'%v)\n",
        "print ('dtype of the numpy array is %s\\n'%str(v.dtype))\n",
        "print(f'1D array in numpy is {v}')"
      ]
    },
    {
      "cell_type": "code",
      "execution_count": 65,
      "metadata": {
        "id": "dPVavueaebJk"
      },
      "outputs": [],
      "source": []
    },
    {
      "cell_type": "code",
      "execution_count": 65,
      "metadata": {
        "id": "yny0OlHZebJk"
      },
      "outputs": [],
      "source": []
    },
    {
      "cell_type": "code",
      "execution_count": 65,
      "metadata": {
        "id": "LTw1rRSMebJk"
      },
      "outputs": [],
      "source": []
    },
    {
      "cell_type": "code",
      "execution_count": 65,
      "metadata": {
        "id": "tgM5vMQcebJl"
      },
      "outputs": [],
      "source": []
    },
    {
      "cell_type": "markdown",
      "metadata": {
        "id": "rW-awQnvebJl"
      },
      "source": [
        "## Initialization of 2D array in Python"
      ]
    },
    {
      "cell_type": "code",
      "execution_count": 33,
      "metadata": {
        "scrolled": false,
        "id": "yCim59f-ebJl",
        "outputId": "e77262f5-a885-4a68-9cc9-d8f9832448bf",
        "colab": {
          "base_uri": "https://localhost:8080/",
          "height": 712
        }
      },
      "outputs": [
        {
          "output_type": "execute_result",
          "data": {
            "image/png": "[encoded data removed]",
            "text/plain": [
              "<IPython.core.display.Image object>"
            ]
          },
          "metadata": {},
          "execution_count": 33
        }
      ],
      "source": [
        "from IPython.display import Image \n",
        "Image(\"/content/sample_data/download.png\")"
      ]
    },
    {
      "cell_type": "markdown",
      "metadata": {
        "id": "zk6iyMoIebJm"
      },
      "source": [
        "### Initialization from List of List\n",
        "\n",
        "numpy.array ( object, dtype=None )\n"
      ]
    },
    {
      "cell_type": "markdown",
      "metadata": {
        "id": "qn8li2UuebJn"
      },
      "source": [
        "\n",
        "\n",
        "```\n",
        "# This is formatted as code\n",
        "```\n",
        "\n"
      ]
    },
    {
      "cell_type": "markdown",
      "metadata": {
        "id": "yFmyLI4qebJo"
      },
      "source": [
        "<div class=\"alert alert-block alert-danger\">\n",
        "Exercise\n",
        "<li>Create a matrix with shape of (3,3)\n",
        "\n",
        "</div>"
      ]
    },
    {
      "cell_type": "code",
      "source": [
        "np.array([[1,4],\n",
        "          [5,6,7],\n",
        "          [5,6,8]])"
      ],
      "metadata": {
        "colab": {
          "base_uri": "https://localhost:8080/"
        },
        "id": "8vF5sO7j4Adj",
        "outputId": "0a1e5d90-68e7-40bd-d32b-0d21e09822fe"
      },
      "execution_count": 72,
      "outputs": [
        {
          "output_type": "stream",
          "name": "stderr",
          "text": [
            "/usr/local/lib/python3.7/dist-packages/ipykernel_launcher.py:3: VisibleDeprecationWarning: Creating an ndarray from ragged nested sequences (which is a list-or-tuple of lists-or-tuples-or ndarrays with different lengths or shapes) is deprecated. If you meant to do this, you must specify 'dtype=object' when creating the ndarray.\n",
            "  This is separate from the ipykernel package so we can avoid doing imports until\n"
          ]
        },
        {
          "output_type": "execute_result",
          "data": {
            "text/plain": [
              "array([list([1, 4]), list([5, 6, 7]), list([5, 6, 8])], dtype=object)"
            ]
          },
          "metadata": {},
          "execution_count": 72
        }
      ]
    },
    {
      "cell_type": "code",
      "source": [
        "np.array([[1,4,9],\n",
        "          [5,6,7],\n",
        "          [5,6,8]]).shape"
      ],
      "metadata": {
        "colab": {
          "base_uri": "https://localhost:8080/"
        },
        "id": "2n1k9etK3Ah2",
        "outputId": "cf0ec977-cd2d-49b1-a644-3f78d225016b"
      },
      "execution_count": 71,
      "outputs": [
        {
          "output_type": "execute_result",
          "data": {
            "text/plain": [
              "(3, 3)"
            ]
          },
          "metadata": {},
          "execution_count": 71
        }
      ]
    },
    {
      "cell_type": "markdown",
      "metadata": {
        "id": "O1rjWWBOebJo"
      },
      "source": [
        "## Initialization with zero/ones <br>\n",
        "<li>numpy.zeros(shape, dtype=float)</li>\n",
        "<li>numpy.ones(shape, dtype=float)</li>\n"
      ]
    },
    {
      "cell_type": "code",
      "execution_count": 77,
      "metadata": {
        "id": "ofM07F3mebJo",
        "outputId": "08401a48-6a55-4200-e346-f27512f4cf95",
        "colab": {
          "base_uri": "https://localhost:8080/"
        }
      },
      "outputs": [
        {
          "output_type": "stream",
          "name": "stdout",
          "text": [
            "Zeros Matris of shape (3, 5) is \n",
            "[[0. 0. 0. 0. 0.]\n",
            " [0. 0. 0. 0. 0.]\n",
            " [0. 0. 0. 0. 0.]]\n",
            "\n",
            "Zeros Matris of shape (3, 5) is \n",
            "[[0. 0. 0. 0. 0.]\n",
            " [0. 0. 0. 0. 0.]\n",
            " [0. 0. 0. 0. 0.]]\n",
            "\n",
            "Ones Matris of shape (2, 3) is \n",
            "[[1. 1. 1.]\n",
            " [1. 1. 1.]]\n",
            "\n",
            "Ones Matris of shape (2, 3) is \n",
            "[[1. 1. 1.]\n",
            " [1. 1. 1.]]\n",
            "\n"
          ]
        }
      ],
      "source": [
        "mat_zeros = np.zeros(shape=(3,5))\n",
        "print ('Zeros Matris of shape %s is \\n%s\\n'%(mat_zeros.shape,mat_zeros))\n",
        "print (f'Zeros Matris of shape {mat_zeros.shape} is \\n{mat_zeros}\\n')\n",
        "mat_ones = np.ones(shape=(2,3))\n",
        "print('Ones Matris of shape %s is \\n%s\\n'%(mat_ones.shape,mat_ones))\n",
        "print(f'Ones Matris of shape {mat_ones.shape} is \\n{mat_ones}\\n')"
      ]
    },
    {
      "cell_type": "code",
      "source": [
        "np.ones(shape=(3,5))"
      ],
      "metadata": {
        "colab": {
          "base_uri": "https://localhost:8080/"
        },
        "id": "4ENb7g6-4lXJ",
        "outputId": "e8f6cf01-3f61-4a12-eb16-217074bb9dc8"
      },
      "execution_count": 75,
      "outputs": [
        {
          "output_type": "execute_result",
          "data": {
            "text/plain": [
              "array([[1., 1., 1., 1., 1.],\n",
              "       [1., 1., 1., 1., 1.],\n",
              "       [1., 1., 1., 1., 1.]])"
            ]
          },
          "metadata": {},
          "execution_count": 75
        }
      ]
    },
    {
      "cell_type": "code",
      "execution_count": 34,
      "metadata": {
        "id": "QTnQ2O3_ebJo"
      },
      "outputs": [],
      "source": []
    },
    {
      "cell_type": "markdown",
      "metadata": {
        "id": "uUyIT72febJp"
      },
      "source": [
        "<div class=\"alert alert-block alert-danger\">\n",
        "Exercise\n",
        "<li>Create ones matrix with shape of (3,3)\n",
        "\n",
        "</div>"
      ]
    },
    {
      "cell_type": "code",
      "execution_count": 34,
      "metadata": {
        "id": "YMx9qW1PebJp"
      },
      "outputs": [],
      "source": []
    },
    {
      "cell_type": "markdown",
      "metadata": {
        "id": "NybYxLISebJp"
      },
      "source": [
        "## Array of full <br>\n",
        "\n",
        "<li>numpy.full(shape,fill_value,dtype=float)</li>\n"
      ]
    },
    {
      "cell_type": "markdown",
      "metadata": {
        "id": "ShgRqb8OebJp"
      },
      "source": [
        "You can create an array filled with any given value using the np.full() method. Just pass in the shape of the desired array and the value you want:"
      ]
    },
    {
      "cell_type": "code",
      "execution_count": 75,
      "metadata": {
        "id": "faTCRPCRebJq"
      },
      "outputs": [],
      "source": []
    },
    {
      "cell_type": "code",
      "execution_count": 75,
      "metadata": {
        "scrolled": false,
        "id": "_aZSz-WGebJq"
      },
      "outputs": [],
      "source": []
    },
    {
      "cell_type": "code",
      "execution_count": 75,
      "metadata": {
        "scrolled": false,
        "id": "CPwjMebQebJq"
      },
      "outputs": [],
      "source": []
    },
    {
      "cell_type": "code",
      "execution_count": 75,
      "metadata": {
        "id": "gD8xkAyoebJq"
      },
      "outputs": [],
      "source": []
    },
    {
      "cell_type": "markdown",
      "metadata": {
        "id": "on4LbH8AebJr"
      },
      "source": [
        "## Initialization with Random Values<br>\n"
      ]
    },
    {
      "cell_type": "code",
      "execution_count": 35,
      "metadata": {
        "id": "UyK-NeeMebJr"
      },
      "outputs": [],
      "source": [
        "np_array  = np.array([3,5,\"NAas\",6])"
      ]
    },
    {
      "cell_type": "code",
      "execution_count": 36,
      "metadata": {
        "id": "qqxWLSrEebJr",
        "outputId": "3828eb01-b70b-4eb0-c390-c9f826e8447c",
        "colab": {
          "base_uri": "https://localhost:8080/"
        }
      },
      "outputs": [
        {
          "output_type": "execute_result",
          "data": {
            "text/plain": [
              "array(['3', '5', 'NAas', '6'], dtype='<U21')"
            ]
          },
          "metadata": {},
          "execution_count": 36
        }
      ],
      "source": [
        "np_array"
      ]
    },
    {
      "cell_type": "markdown",
      "metadata": {
        "id": "MwW-kdJWebJr"
      },
      "source": [
        "### Array of random samples from the “standard normal” distribution.<br>\n",
        "<li>numpy.random.randn ($d_0,d_1,\\cdots,d_n$)</li>"
      ]
    },
    {
      "cell_type": "code",
      "execution_count": 37,
      "metadata": {
        "scrolled": false,
        "id": "U1p4aVJZebJr",
        "outputId": "c7d9d461-1ce5-4f36-d142-feb889699924",
        "colab": {
          "base_uri": "https://localhost:8080/"
        }
      },
      "outputs": [
        {
          "output_type": "stream",
          "name": "stdout",
          "text": [
            "matrix generated from numpy.random.randn is \n",
            "[[ 1.18839808  0.144403    0.40088971  1.71401146]\n",
            " [ 0.48932345 -0.65739161  1.24602148 -0.55364417]\n",
            " [-0.47071119 -1.59150484 -2.61531271 -0.25063173]]\n",
            "\n"
          ]
        }
      ],
      "source": [
        "mat3 = np.random.randn(3,4)\n",
        "print ('matrix generated from numpy.random.randn is \\n%s\\n'%mat3)\n"
      ]
    },
    {
      "cell_type": "markdown",
      "metadata": {
        "id": "ccYAkHthebJs"
      },
      "source": [
        "### Array of random samples from a uniform distribution over [0, 1) <br>\n",
        "<li>numpy.random.rand ($d_0,d_1,\\cdots,d_n$)</li>"
      ]
    },
    {
      "cell_type": "code",
      "execution_count": 38,
      "metadata": {
        "id": "5BffnyysebJs",
        "outputId": "c59e8521-0f88-4a54-eed8-1c2fa8c53d82",
        "colab": {
          "base_uri": "https://localhost:8080/"
        }
      },
      "outputs": [
        {
          "output_type": "stream",
          "name": "stdout",
          "text": [
            "matrix generated from numpy.random.rand is \n",
            "[[0.73586868 0.60211559 0.15048159]\n",
            " [0.99212667 0.96231042 0.92225129]]\n",
            "\n"
          ]
        }
      ],
      "source": [
        "mat1 = np.random.rand(2,3)\n",
        "print ('matrix generated from numpy.random.rand is \\n%s\\n'%mat1)\n",
        "\n"
      ]
    },
    {
      "cell_type": "markdown",
      "metadata": {
        "id": "UMAj1FkmebJs"
      },
      "source": [
        "<div class=\"alert alert-block alert-danger\">\n",
        "<b>Exercise</b>\n",
        "<li> Create a 3x3x3 array with random values\n",
        "</div>\n"
      ]
    },
    {
      "cell_type": "code",
      "execution_count": 92,
      "metadata": {
        "id": "oJAvSGzkebJs",
        "outputId": "65c36ffd-2d97-4149-ac65-6b28a123c5ab",
        "colab": {
          "base_uri": "https://localhost:8080/"
        }
      },
      "outputs": [
        {
          "output_type": "execute_result",
          "data": {
            "text/plain": [
              "array([[[0.5488135 , 0.71518937, 0.60276338],\n",
              "        [0.54488318, 0.4236548 , 0.64589411],\n",
              "        [0.43758721, 0.891773  , 0.96366276]],\n",
              "\n",
              "       [[0.38344152, 0.79172504, 0.52889492],\n",
              "        [0.56804456, 0.92559664, 0.07103606],\n",
              "        [0.0871293 , 0.0202184 , 0.83261985]],\n",
              "\n",
              "       [[0.77815675, 0.87001215, 0.97861834],\n",
              "        [0.79915856, 0.46147936, 0.78052918],\n",
              "        [0.11827443, 0.63992102, 0.14335329]]])"
            ]
          },
          "metadata": {},
          "execution_count": 92
        }
      ],
      "source": [
        "np.random.seed(0)\n",
        "np.random.rand(3,3,3)"
      ]
    },
    {
      "cell_type": "markdown",
      "metadata": {
        "id": "S8SvinIpebJt"
      },
      "source": [
        "##Use of np.random.seed(0)"
      ]
    },
    {
      "cell_type": "markdown",
      "metadata": {
        "id": "Bl6BmUrbebJt"
      },
      "source": [
        "### Array of Int <br>\n",
        "<li>numpy.random.randint(low, high, size) : The value of matrix lies between low and high-1</li>\n"
      ]
    },
    {
      "cell_type": "code",
      "source": [
        "import numpy as np"
      ],
      "metadata": {
        "id": "f1rdyfTIsFH5"
      },
      "execution_count": 2,
      "outputs": []
    },
    {
      "cell_type": "code",
      "execution_count": 13,
      "metadata": {
        "scrolled": true,
        "id": "owauiJN8ebJt",
        "colab": {
          "base_uri": "https://localhost:8080/"
        },
        "outputId": "1fc44a48-3f15-4bbc-9382-b2204afd07c9"
      },
      "outputs": [
        {
          "output_type": "stream",
          "name": "stdout",
          "text": [
            "matrix generated from numpy.random.random is \n",
            "[[ -6  -2 -10  -9]\n",
            " [ -8   3   2   9]\n",
            " [  3  -3   8   5]]\n",
            "\n"
          ]
        }
      ],
      "source": [
        "np.random.seed(9)\n",
        "mat2 = np.random.randint(low=-10,high=10,size=(3,4))\n",
        "print ('matrix generated from numpy.random.random is \\n%s\\n'%mat2)"
      ]
    },
    {
      "cell_type": "markdown",
      "metadata": {
        "id": "6zmuG9NaebJu"
      },
      "source": [
        "# Initialization via arange\n",
        "\n",
        "numpy.arange([start, ]stop, [step, ] dtype=None)"
      ]
    },
    {
      "cell_type": "code",
      "execution_count": 39,
      "metadata": {
        "id": "HDem-U9yebJu"
      },
      "outputs": [],
      "source": []
    },
    {
      "cell_type": "code",
      "execution_count": 16,
      "metadata": {
        "id": "vemeQ4ciebJv",
        "outputId": "0f1f6310-b529-4439-c7a7-74c341abf837",
        "colab": {
          "base_uri": "https://localhost:8080/"
        }
      },
      "outputs": [
        {
          "output_type": "execute_result",
          "data": {
            "text/plain": [
              "array([-10,  -9,  -8,  -7,  -6,  -5,  -4,  -3,  -2,  -1,   0,   1,   2,\n",
              "         3,   4,   5,   6,   7,   8,   9,  10,  11,  12,  13,  14,  15,\n",
              "        16,  17,  18,  19,  20,  21,  22,  23,  24,  25,  26,  27,  28,\n",
              "        29,  30,  31,  32,  33,  34,  35,  36,  37,  38,  39,  40,  41,\n",
              "        42,  43,  44,  45,  46,  47,  48,  49,  50,  51,  52,  53,  54,\n",
              "        55,  56,  57,  58,  59,  60,  61,  62,  63,  64,  65,  66,  67,\n",
              "        68,  69,  70,  71,  72,  73,  74,  75,  76,  77,  78,  79,  80,\n",
              "        81,  82,  83,  84,  85,  86,  87,  88,  89,  90,  91,  92,  93,\n",
              "        94,  95,  96,  97,  98,  99])"
            ]
          },
          "metadata": {},
          "execution_count": 16
        }
      ],
      "source": [
        "np.arange(-10,100)"
      ]
    },
    {
      "cell_type": "code",
      "execution_count": 17,
      "metadata": {
        "id": "VDSAC93GebJv",
        "outputId": "65d2e931-e3d6-4aac-c82d-97496afe4f21",
        "colab": {
          "base_uri": "https://localhost:8080/"
        }
      },
      "outputs": [
        {
          "output_type": "stream",
          "name": "stdout",
          "text": [
            "Creating a numpy array via arange (stop=5) : [0 1 2 3 4]\n",
            "\n",
            "Creating a numpy array via arange (start=2,stop=5) : [2 3 4]\n",
            "\n",
            "Creating a numpy array via arange (start=0,stop=-10,step=-2) : [  0  -2  -4  -6  -8 -10]\n",
            "\n"
          ]
        }
      ],
      "source": [
        "v1 = np.arange(5)\n",
        "print ('Creating a numpy array via arange (stop=5) : %s\\n'%v1)\n",
        "v2 = np.arange(2,5)\n",
        "print ('Creating a numpy array via arange (start=2,stop=5) : %s\\n'%v2)\n",
        "v3 = np.arange(0,-11,-2)\n",
        "print ('Creating a numpy array via arange (start=0,stop=-10,step=-2) : %s\\n'%v3)"
      ]
    },
    {
      "cell_type": "code",
      "execution_count": 18,
      "metadata": {
        "id": "SseH9ygDebJv",
        "outputId": "488520da-13e8-4a56-b33e-30d13782425e",
        "colab": {
          "base_uri": "https://localhost:8080/"
        }
      },
      "outputs": [
        {
          "output_type": "execute_result",
          "data": {
            "text/plain": [
              "array([ 4,  8, 12, 16, 20, 24, 28, 32, 36, 40])"
            ]
          },
          "metadata": {},
          "execution_count": 18
        }
      ],
      "source": [
        "#Create the table of 4 using np.arange\n",
        "np.arange(4,41,4)"
      ]
    },
    {
      "cell_type": "markdown",
      "metadata": {
        "id": "6NO8G4tTebJw"
      },
      "source": [
        "# Dimensions of NumPy arrays"
      ]
    },
    {
      "cell_type": "markdown",
      "metadata": {
        "id": "I5rssuP6ebJw"
      },
      "source": [
        "You can easily determine the number of dimensions or axes of a NumPy array using the ndims attribute:"
      ]
    },
    {
      "cell_type": "code",
      "execution_count": 20,
      "metadata": {
        "id": "kM1rDJ5webJw",
        "outputId": "1f5cf024-f645-4f22-8eb1-8dd76cee6a31",
        "colab": {
          "base_uri": "https://localhost:8080/"
        }
      },
      "outputs": [
        {
          "output_type": "stream",
          "name": "stdout",
          "text": [
            "Array : \n",
            " [[ 5 10 15]\n",
            " [20 25 20]]\n",
            "Dimensions : \n",
            " 2\n",
            "Shape : \n",
            " 2\n",
            "size : \n",
            " 6\n"
          ]
        }
      ],
      "source": [
        "# view the no. of dimensions of the matrix\n",
        "\n",
        "a = np.array([[5,10,15],\n",
        "              [20,25,20]])\n",
        "print('Array :','\\n',a)\n",
        "print('Dimensions :','\\n',a.ndim)\n",
        "print('Shape :','\\n',a.shape[0])\n",
        "print('size :','\\n',a.size)"
      ]
    },
    {
      "cell_type": "code",
      "execution_count": 42,
      "metadata": {
        "id": "4i8jZVdxebJw"
      },
      "outputs": [],
      "source": []
    },
    {
      "cell_type": "code",
      "execution_count": 42,
      "metadata": {
        "id": "Sqjrx3i0ebJw"
      },
      "outputs": [],
      "source": []
    },
    {
      "cell_type": "markdown",
      "metadata": {
        "id": "L6DN7Bl0ebJx"
      },
      "source": [
        "## Shape of NumPy array"
      ]
    },
    {
      "cell_type": "markdown",
      "metadata": {
        "id": "l1t626_JebJx"
      },
      "source": [
        "The **shape** is an attribute of the NumPy array that shows how many rows of elements are there along each dimension. You can further index the shape so returned by the ndarray to get value along each dimension:"
      ]
    },
    {
      "cell_type": "code",
      "execution_count": 43,
      "metadata": {
        "id": "63b9FmXWebJx",
        "outputId": "360d08d6-28c0-4ce4-c5d9-53302db5ab66",
        "colab": {
          "base_uri": "https://localhost:8080/"
        }
      },
      "outputs": [
        {
          "output_type": "stream",
          "name": "stdout",
          "text": [
            "Array : \n",
            " [[1 2 3]\n",
            " [4 5 6]]\n",
            "Shape : \n",
            " (2, 3)\n",
            "Rows =  2\n",
            "Columns =  3\n"
          ]
        }
      ],
      "source": [
        "# view the no. of rows and columns in matrix\n",
        "\n",
        "a = np.array([[1,2,3],\n",
        "              [4,5,6]])\n",
        "print('Array :','\\n',a)\n",
        "print('Shape :','\\n',a.shape)\n",
        "print('Rows = ',a.shape[0])\n",
        "print('Columns = ',a.shape[1])"
      ]
    },
    {
      "cell_type": "code",
      "execution_count": 43,
      "metadata": {
        "id": "csQnAsoMebJy"
      },
      "outputs": [],
      "source": []
    },
    {
      "cell_type": "markdown",
      "metadata": {
        "id": "csjmCDDVebJy"
      },
      "source": [
        "## Size of NumPy array"
      ]
    },
    {
      "cell_type": "markdown",
      "metadata": {
        "id": "kJ6HeN-LebJz"
      },
      "source": [
        "You can determine how many values there are in the array using the **size** attribute. It just multiplies the number of rows by the number of columns in the ndarray:"
      ]
    },
    {
      "cell_type": "code",
      "execution_count": 44,
      "metadata": {
        "scrolled": true,
        "id": "0Lpf4FxiebJz",
        "outputId": "35e95344-1569-4b58-c53d-23806d0f2a98",
        "colab": {
          "base_uri": "https://localhost:8080/"
        }
      },
      "outputs": [
        {
          "output_type": "stream",
          "name": "stdout",
          "text": [
            "Size of array : 6\n"
          ]
        }
      ],
      "source": [
        "a = np.array([[5,10,15],\n",
        "              [20,25,20]])\n",
        "print('Size of array :',a.size)"
      ]
    },
    {
      "cell_type": "markdown",
      "metadata": {
        "id": "fC2i6m0qebJz"
      },
      "source": [
        "<div class=\"alert alert-block alert-danger\">\n",
        "<b>Exercise</b>\n",
        "<li> How many values will be in a n-dim array of shape (3,3,3)\n",
        "\n",
        "</div>"
      ]
    },
    {
      "cell_type": "code",
      "source": [
        "np.random.randint(low=1, high=10,size=(3,3,3)).size"
      ],
      "metadata": {
        "colab": {
          "base_uri": "https://localhost:8080/"
        },
        "id": "qwfjSjDCxzDN",
        "outputId": "0d26601b-0341-4405-aa2e-b7dadf621ad0"
      },
      "execution_count": 26,
      "outputs": [
        {
          "output_type": "execute_result",
          "data": {
            "text/plain": [
              "27"
            ]
          },
          "metadata": {},
          "execution_count": 26
        }
      ]
    },
    {
      "cell_type": "markdown",
      "source": [
        "# Vectorization"
      ],
      "metadata": {
        "id": "rua3Ch7oXKD0"
      }
    },
    {
      "cell_type": "code",
      "source": [
        "array = np.array([[1, 2, 3], [4, 5, 6]])\n",
        "print(array)"
      ],
      "metadata": {
        "colab": {
          "base_uri": "https://localhost:8080/"
        },
        "id": "L4Uoukf2XLvc",
        "outputId": "b779cb33-4535-4f53-dd42-0a5a45424b36"
      },
      "execution_count": 36,
      "outputs": [
        {
          "output_type": "stream",
          "name": "stdout",
          "text": [
            "[[1 2 3]\n",
            " [4 5 6]]\n"
          ]
        }
      ]
    },
    {
      "cell_type": "code",
      "source": [
        "for i in range(array.shape[0]):\n",
        "  for j in range(array.shape[1]):\n",
        "    array[i][j] += 10 \n",
        "array"
      ],
      "metadata": {
        "colab": {
          "base_uri": "https://localhost:8080/"
        },
        "id": "dYd0ZsBT1lRq",
        "outputId": "0ce7b9d4-8dcb-4e97-d535-13d6617c320b"
      },
      "execution_count": 37,
      "outputs": [
        {
          "output_type": "execute_result",
          "data": {
            "text/plain": [
              "array([[11, 12, 13],\n",
              "       [14, 15, 16]])"
            ]
          },
          "metadata": {},
          "execution_count": 37
        }
      ]
    },
    {
      "cell_type": "code",
      "source": [
        "%%timeit\n",
        "for i in range(array.shape[0]):\n",
        "  for j in range(array.shape[1]):\n",
        "    array[i][j] += 10 \n",
        "array"
      ],
      "metadata": {
        "colab": {
          "base_uri": "https://localhost:8080/"
        },
        "id": "gDFsXR100kr_",
        "outputId": "4d88656c-8af2-41fd-e363-9f7aa49fb39a"
      },
      "execution_count": 33,
      "outputs": [
        {
          "output_type": "stream",
          "name": "stdout",
          "text": [
            "5.01 µs ± 114 ns per loop (mean ± std. dev. of 7 runs, 100000 loops each)\n"
          ]
        }
      ]
    },
    {
      "cell_type": "code",
      "source": [],
      "metadata": {
        "colab": {
          "base_uri": "https://localhost:8080/"
        },
        "id": "l_5efmO50tkg",
        "outputId": "cefba1d4-a37a-4261-a795-b3cb2fe63e2f"
      },
      "execution_count": 34,
      "outputs": [
        {
          "output_type": "execute_result",
          "data": {
            "text/plain": [
              "array([[8111131, 8111132, 8111133],\n",
              "       [8111134, 8111135, 8111136]])"
            ]
          },
          "metadata": {},
          "execution_count": 34
        }
      ]
    },
    {
      "cell_type": "code",
      "source": [
        "%%timeit\n",
        "array = np.array([[1, 2, 3], [4, 5, 6]])\n",
        "array + 10\n",
        "array"
      ],
      "metadata": {
        "colab": {
          "base_uri": "https://localhost:8080/"
        },
        "id": "HBdPTITqXPol",
        "outputId": "3e3185b6-7c4c-4992-a89e-097db9ac11c4"
      },
      "execution_count": 38,
      "outputs": [
        {
          "output_type": "stream",
          "name": "stdout",
          "text": [
            "3.45 µs ± 116 ns per loop (mean ± std. dev. of 7 runs, 100000 loops each)\n"
          ]
        }
      ]
    },
    {
      "cell_type": "code",
      "source": [
        "array = np.array([[1, 2, 3], [4, 5, 6]])\n",
        "array += 10\n",
        "array"
      ],
      "metadata": {
        "colab": {
          "base_uri": "https://localhost:8080/"
        },
        "id": "KAKgSuc00cca",
        "outputId": "909c5f78-0f08-4302-9457-3afc3abdae02"
      },
      "execution_count": 40,
      "outputs": [
        {
          "output_type": "execute_result",
          "data": {
            "text/plain": [
              "array([[11, 12, 13],\n",
              "       [14, 15, 16]])"
            ]
          },
          "metadata": {},
          "execution_count": 40
        }
      ]
    },
    {
      "cell_type": "code",
      "source": [
        "np.array([[1, 2, 3], [4, 5, 6]])"
      ],
      "metadata": {
        "colab": {
          "base_uri": "https://localhost:8080/"
        },
        "id": "B7BEIAY-2h89",
        "outputId": "35118181-1d5c-4430-cc16-ebe6018264c3"
      },
      "execution_count": 42,
      "outputs": [
        {
          "output_type": "execute_result",
          "data": {
            "text/plain": [
              "array([[1, 2, 3],\n",
              "       [4, 5, 6]])"
            ]
          },
          "metadata": {},
          "execution_count": 42
        }
      ]
    },
    {
      "cell_type": "code",
      "source": [
        "np.array([[1, 2, 3], [4, 5, 6]]) - np.array([[10, 20, 30], [40, 50, 60]])"
      ],
      "metadata": {
        "colab": {
          "base_uri": "https://localhost:8080/"
        },
        "id": "s6oZ2ZNY2aHM",
        "outputId": "96557efc-d38b-4144-910b-8a977a3756d8"
      },
      "execution_count": 44,
      "outputs": [
        {
          "output_type": "execute_result",
          "data": {
            "text/plain": [
              "array([[ -9, -18, -27],\n",
              "       [-36, -45, -54]])"
            ]
          },
          "metadata": {},
          "execution_count": 44
        }
      ]
    },
    {
      "cell_type": "code",
      "source": [
        "np.array([[1, 2, 3], [4, 5, 6]]) % np.array([[10, 20, 30], [40, 50, 60]])"
      ],
      "metadata": {
        "colab": {
          "base_uri": "https://localhost:8080/"
        },
        "id": "o_vPTa5J2tCJ",
        "outputId": "45083465-41df-468b-ff15-0477f3243a7c"
      },
      "execution_count": 45,
      "outputs": [
        {
          "output_type": "execute_result",
          "data": {
            "text/plain": [
              "array([[1, 2, 3],\n",
              "       [4, 5, 6]])"
            ]
          },
          "metadata": {},
          "execution_count": 45
        }
      ]
    },
    {
      "cell_type": "code",
      "source": [
        "np.array([[1, 2, 3], [4, 5, 6]]) / np.array([[10, 20, 30], [40, 50, 60]])"
      ],
      "metadata": {
        "colab": {
          "base_uri": "https://localhost:8080/"
        },
        "id": "Cf3Br0Bf2u8-",
        "outputId": "dcf62cc9-ff89-4b95-ab4c-e7155afc2ede"
      },
      "execution_count": 46,
      "outputs": [
        {
          "output_type": "execute_result",
          "data": {
            "text/plain": [
              "array([[0.1, 0.1, 0.1],\n",
              "       [0.1, 0.1, 0.1]])"
            ]
          },
          "metadata": {},
          "execution_count": 46
        }
      ]
    },
    {
      "cell_type": "code",
      "source": [
        "np.array([[1, 2, 3], [4, 5, 6]]) // np.array([[10, 20, 30], [40, 50, 60]])"
      ],
      "metadata": {
        "colab": {
          "base_uri": "https://localhost:8080/"
        },
        "id": "3wtSpupy2wub",
        "outputId": "fde1cfd4-6a55-4819-ca8e-b856385766f8"
      },
      "execution_count": 47,
      "outputs": [
        {
          "output_type": "execute_result",
          "data": {
            "text/plain": [
              "array([[0, 0, 0],\n",
              "       [0, 0, 0]])"
            ]
          },
          "metadata": {},
          "execution_count": 47
        }
      ]
    },
    {
      "cell_type": "code",
      "source": [
        "np.array([[1, 2, 3], [4, 5, 6]]) * np.array([[10, 20, 30], [40, 50, 60]])"
      ],
      "metadata": {
        "colab": {
          "base_uri": "https://localhost:8080/"
        },
        "id": "MqicxnqB2y24",
        "outputId": "f6798286-75fa-44e1-fc3d-482917ad1d5c"
      },
      "execution_count": 48,
      "outputs": [
        {
          "output_type": "execute_result",
          "data": {
            "text/plain": [
              "array([[ 10,  40,  90],\n",
              "       [160, 250, 360]])"
            ]
          },
          "metadata": {},
          "execution_count": 48
        }
      ]
    },
    {
      "cell_type": "code",
      "source": [
        "np.array([[1, 2, 3], [4, 5, 6]]).dot(np.array([[10, 20], [40, 50], [60, 70]]))\n",
        "# (2,3) (3,2)"
      ],
      "metadata": {
        "colab": {
          "base_uri": "https://localhost:8080/"
        },
        "id": "P-3th4C53JA0",
        "outputId": "003e9221-d832-4fc8-b7de-a0d7f4461743"
      },
      "execution_count": 50,
      "outputs": [
        {
          "output_type": "execute_result",
          "data": {
            "text/plain": [
              "array([[270, 330],\n",
              "       [600, 750]])"
            ]
          },
          "metadata": {},
          "execution_count": 50
        }
      ]
    },
    {
      "cell_type": "markdown",
      "source": [
        "## Adding two arrays"
      ],
      "metadata": {
        "id": "2dJvLUXYYVng"
      }
    },
    {
      "cell_type": "code",
      "source": [
        "array_a = np.array([[1, 2, 3], [4, 5, 6]])\n",
        "array_b = np.array([[0, 1, 0], [1, 0, 1]])\n",
        "array_a + array_b"
      ],
      "metadata": {
        "colab": {
          "base_uri": "https://localhost:8080/"
        },
        "id": "-XlUFnUjXh85",
        "outputId": "42bb8fe9-c426-4109-e779-c57d231e1a59"
      },
      "execution_count": 51,
      "outputs": [
        {
          "output_type": "execute_result",
          "data": {
            "text/plain": [
              "array([[1, 3, 3],\n",
              "       [5, 5, 7]])"
            ]
          },
          "metadata": {},
          "execution_count": 51
        }
      ]
    },
    {
      "cell_type": "markdown",
      "source": [
        "## Multiplying two arays"
      ],
      "metadata": {
        "id": "GMAVc5i9YZtk"
      }
    },
    {
      "cell_type": "code",
      "source": [
        "array_a = np.array([[1, 2, 3], [4, 5, 6]])\n",
        "array_b = np.array([[0, 1, 0], [1, 0, 1]])\n",
        "array_a * array_b"
      ],
      "metadata": {
        "colab": {
          "base_uri": "https://localhost:8080/"
        },
        "id": "JN9CCTppYXxi",
        "outputId": "599067af-1afb-482b-b3ec-cc23f17b750e"
      },
      "execution_count": 52,
      "outputs": [
        {
          "output_type": "execute_result",
          "data": {
            "text/plain": [
              "array([[0, 2, 0],\n",
              "       [4, 0, 6]])"
            ]
          },
          "metadata": {},
          "execution_count": 52
        }
      ]
    },
    {
      "cell_type": "code",
      "source": [
        "array_a = np.array([[1, 2, 3], [4, 5, 6]])\n",
        "array_b = np.array([[1, 1], [1, 4], [1, 2]])\n",
        "np.dot(array_a, array_b)"
      ],
      "metadata": {
        "colab": {
          "base_uri": "https://localhost:8080/"
        },
        "id": "oMpfcDmeYg_l",
        "outputId": "cae952e8-c79b-4c2f-c9e9-7fdfd0853237"
      },
      "execution_count": 56,
      "outputs": [
        {
          "output_type": "execute_result",
          "data": {
            "text/plain": [
              "array([[ 6, 15],\n",
              "       [15, 36]])"
            ]
          },
          "metadata": {},
          "execution_count": 56
        }
      ]
    },
    {
      "cell_type": "code",
      "source": [],
      "metadata": {
        "id": "TRyVlygzYxoI"
      },
      "execution_count": null,
      "outputs": []
    },
    {
      "cell_type": "markdown",
      "source": [
        "# Broadcasting (Homework)"
      ],
      "metadata": {
        "id": "N9n_T3NrZ1oQ"
      }
    }
  ],
  "metadata": {
    "kernelspec": {
      "display_name": "Python 3",
      "language": "python",
      "name": "python3"
    },
    "language_info": {
      "codemirror_mode": {
        "name": "ipython",
        "version": 3
      },
      "file_extension": ".py",
      "mimetype": "text/x-python",
      "name": "python",
      "nbconvert_exporter": "python",
      "pygments_lexer": "ipython3",
      "version": "3.8.5"
    },
    "toc": {
      "base_numbering": 1,
      "nav_menu": {},
      "number_sections": true,
      "sideBar": true,
      "skip_h1_title": false,
      "title_cell": "Table of Contents",
      "title_sidebar": "Contents",
      "toc_cell": false,
      "toc_position": {},
      "toc_section_display": true,
      "toc_window_display": false
    },
    "colab": {
      "provenance": []
    }
  },
  "nbformat": 4,
  "nbformat_minor": 0
}