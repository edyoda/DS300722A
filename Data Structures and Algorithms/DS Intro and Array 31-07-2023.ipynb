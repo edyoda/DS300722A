{
 "cells": [
  {
   "cell_type": "code",
   "execution_count": null,
   "id": "48e61964",
   "metadata": {},
   "outputs": [],
   "source": [
    "loops :\n",
    "    \n",
    "    for loop --> if we know the number of iterations -->  Array\n",
    "     \n",
    "    while loop --> when we know the conditions --> linkedlist"
   ]
  },
  {
   "cell_type": "code",
   "execution_count": null,
   "id": "c6ebd5c6",
   "metadata": {},
   "outputs": [],
   "source": [
    "class and objects --> "
   ]
  },
  {
   "cell_type": "code",
   "execution_count": null,
   "id": "c0a94c1d",
   "metadata": {},
   "outputs": [],
   "source": [
    "Data Structure --> It is just a way of storing the data so that we can use that data in an \n",
    "efficient manner for furthur use.\n",
    "\n",
    "Types of Data Structures:\n",
    "    \n",
    "    1.Primitive Type(Hold a single value) --> integer,float,complex...\n",
    "    2.Non Primitive Datatype(Hold multiple Values):\n",
    "        \n",
    "        \n",
    "        Based on Implementation --> Physical Data Structure  --> arrays and linkedlist\n",
    "                                --> Logical Data Structure/Abstract Data Structure --> Stack ,Queue Graph and Tree\n",
    "            \n",
    "        Based on Storage --> Linear Data Strcuture --> arrays,linkedlist,stack and queue\n",
    "                         --> Non Linear Data Strcuture --> Trees and Graph"
   ]
  },
  {
   "cell_type": "code",
   "execution_count": null,
   "id": "c19b1c3d",
   "metadata": {},
   "outputs": [],
   "source": [
    "Physical Data Strcuture(Arrays and Linkedlist): Physical Data Structure are those data structure by which we can implement\n",
    "    any other data structures.\n",
    "\n",
    "Logical Data Structures(Queue,Stack,Graph and Tree) -->The data structure which are totally depend om\n",
    "physial data structure for its implementation.\n",
    "\n",
    "\n",
    "ADT --> Abstract Datatype\n",
    "    --> Entities which are having only operations/functions but not implementation.The implementation\n",
    "        is totally depend on physical Data Structure.\n",
    "    \n",
    "Example:\n",
    "    \n",
    "    Stack --> pop,push,peek\n",
    "    Queue --> enqueue,dequeue"
   ]
  },
  {
   "cell_type": "code",
   "execution_count": null,
   "id": "9625d688",
   "metadata": {},
   "outputs": [],
   "source": [
    "Linear Data Structure ---> In linear data Strcuture the data is stored in sequential or linear manner.\n",
    "\n",
    "Example:\n",
    "    \n",
    "    Array,linkedlist,queue,stack\n",
    "    \n",
    "Non Linear Data Structure --> In Non linear data structure the data will be stored in hierhcial format \n",
    "or non linear format.\n",
    "\n",
    "Example:\n",
    "    Tree and Graph"
   ]
  },
  {
   "cell_type": "code",
   "execution_count": null,
   "id": "d5bf67bf",
   "metadata": {},
   "outputs": [],
   "source": [
    "Note --> In case of Python We will always consider an array as a list.Even in python\n",
    "we are having seperate array module for use but list is more flexible as compare to array im\n",
    "python.\n",
    "\n",
    "What is an Array?\n",
    "\n",
    "Array --> is a collection of similar datatypes stored in contigous memeory location.\n",
    "\n",
    "List --> is a collection of dissimilar objects and list is also an object."
   ]
  },
  {
   "cell_type": "code",
   "execution_count": null,
   "id": "f44fe423",
   "metadata": {},
   "outputs": [],
   "source": [
    "Basic Operation of every data Structure:\n",
    "    \n",
    "    1.Insertion --> Insertion at the begin/Insertion at end and Insertion at the given pos\n",
    "    2.Deletion --> Deletion at the begin/Deletion at end and Deletion at the given pos\n",
    "    3.Traversal --> Visiting each and every element of an array."
   ]
  },
  {
   "cell_type": "code",
   "execution_count": 9,
   "id": "7704b92b",
   "metadata": {},
   "outputs": [
    {
     "name": "stdout",
     "output_type": "stream",
     "text": [
      "[100]\n",
      "[200, 100]\n",
      "[300, 200, 100]\n",
      "[400, 300, 200, 100]\n",
      "****************************************************************************************************\n",
      "[400, 300, 200, 100, 100]\n",
      "[400, 300, 200, 100, 100, 200]\n",
      "[400, 300, 200, 100, 100, 200, 300]\n",
      "[400, 300, 200, 100, 100, 200, 300, 400]\n",
      "****************************************************************************************************\n",
      "[400, 300, 200, 100, 100, 200, 300, 400]\n",
      "[400, 300, 200, 100, 250, 100, 200, 300, 400]\n",
      "[400, 300, 200, 100, 250, 100, 200, 300, 400, 800]\n",
      "[400, 1400, 300, 200, 100, 250, 100, 200, 300, 400, 800]\n",
      "****************************************************************************************************\n",
      "[400, 300, 200, 100, 250, 100, 200, 300, 400, 800]\n",
      "****************************************************************************************************\n",
      "[300, 200, 100, 250, 100, 200, 300, 400, 800]\n",
      "****************************************************************************************************\n",
      "[300, 200, 100, 250, 100, 200, 300, 400]\n",
      "****************************************************************************************************\n",
      "300 200 100 250 100 200 300 400 "
     ]
    }
   ],
   "source": [
    "#Implementation of different operations over array \n",
    "class Array:\n",
    "    def __init__(self):\n",
    "        self.array = []\n",
    "    \n",
    "    def insertion_at_begin(self,data):\n",
    "        self.array.insert(0,data)\n",
    "        return self.array\n",
    "    \n",
    "    def insertion_at_end(self,data):\n",
    "        self.array.append(data)\n",
    "        return self.array \n",
    "    \n",
    "    def insertion_at_pos(self,data,pos):\n",
    "        if pos>len(self.array):\n",
    "            return self.array\n",
    "        self.array.insert(pos,data)\n",
    "        return self.array\n",
    "    \n",
    "    def deletion_at_begin(self):\n",
    "        if len(self.array)<1:\n",
    "            return \"Array is empty We cannot Perform Deletion at the Begining Operation\"\n",
    "        self.array.pop(0)\n",
    "        return self.array\n",
    "    \n",
    "    def deletion_at_last(self):\n",
    "        if len(self.array)<1:\n",
    "            return \"Array is empty We cannot Perform Deletion at the Last Operation\"\n",
    "\n",
    "        self.array.pop()\n",
    "        return self.array\n",
    "    \n",
    "    def deletion_at_pos(self,pos):\n",
    "        if len(self.array)<1 or pos>len(self.array):\n",
    "            return self.array\n",
    "        self.array.pop(pos)\n",
    "        return self.array\n",
    "    \n",
    "    def traversal(self):\n",
    "        for i in self.array:\n",
    "            print(i,end=\" \")\n",
    "            \n",
    "            \n",
    "array1 = Array()\n",
    "print(array1.insertion_at_begin(100))\n",
    "print(array1.insertion_at_begin(200))\n",
    "print(array1.insertion_at_begin(300))\n",
    "print(array1.insertion_at_begin(400))\n",
    "print(\"*\"*100)\n",
    "print(array1.insertion_at_end(100))\n",
    "print(array1.insertion_at_end(200))\n",
    "print(array1.insertion_at_end(300))\n",
    "print(array1.insertion_at_end(400))\n",
    "print(\"*\"*100)\n",
    "print(array1.insertion_at_pos(100,10))\n",
    "print(array1.insertion_at_pos(250,4))\n",
    "print(array1.insertion_at_pos(800,9))\n",
    "print(array1.insertion_at_pos(1400,1))\n",
    "print(\"*\"*100)\n",
    "print(array1.deletion_at_pos(1))\n",
    "print(\"*\"*100)\n",
    "print(array1.deletion_at_begin())\n",
    "print(\"*\"*100)\n",
    "print(array1.deletion_at_last())\n",
    "\n",
    "print(\"*\"*100)\n",
    "\n",
    "array1.traversal()\n",
    "        \n",
    "    \n",
    "        "
   ]
  },
  {
   "cell_type": "code",
   "execution_count": null,
   "id": "2104467f",
   "metadata": {},
   "outputs": [],
   "source": [
    "list vs array\n",
    "\n",
    "1.Array stores similar dataypes whereas list stored disimilar datatype.\n",
    "2.Array is fixed in size whereas list is dynamic in nature.\n",
    "3.Array stores data in contigous memory location whereas list is an object/"
   ]
  },
  {
   "cell_type": "code",
   "execution_count": null,
   "id": "56dfcb1a",
   "metadata": {},
   "outputs": [],
   "source": [
    "a{5} --> 5elements --> 6th\n",
    "\n",
    "l = []"
   ]
  },
  {
   "cell_type": "code",
   "execution_count": null,
   "id": "f9d2c110",
   "metadata": {},
   "outputs": [],
   "source": [
    "list vs Array in Python"
   ]
  },
  {
   "cell_type": "code",
   "execution_count": 10,
   "id": "1803a0cc",
   "metadata": {},
   "outputs": [
    {
     "name": "stdout",
     "output_type": "stream",
     "text": [
      "10\n",
      "20\n",
      "30\n"
     ]
    }
   ],
   "source": [
    "x = [10,20,30]\n",
    "for i in x:\n",
    "    print(i)"
   ]
  },
  {
   "cell_type": "code",
   "execution_count": 11,
   "id": "c746a514",
   "metadata": {},
   "outputs": [
    {
     "name": "stdout",
     "output_type": "stream",
     "text": [
      "10\n",
      "20\n",
      "30\n"
     ]
    }
   ],
   "source": [
    "import array\n",
    "sample_array = array.array(\"i\",[10,20,30])\n",
    "for i in sample_array:\n",
    "    print(i)"
   ]
  },
  {
   "cell_type": "code",
   "execution_count": null,
   "id": "13f60519",
   "metadata": {},
   "outputs": [],
   "source": [
    "Applications of Array:\n",
    "    \n",
    "    1.Matrix\n",
    "    2.CPU Schedulig\n",
    "    3.Graph Data Structure\n",
    "    4.Qureue and Stack\n",
    "    \n",
    "Real World:\n",
    "    \n",
    "    1.pAGES OF BOOKS\n",
    "    2.dICTIONARY BOOKS\n",
    "    3.oNLINE BOOKING"
   ]
  }
 ],
 "metadata": {
  "kernelspec": {
   "display_name": "Python 3 (ipykernel)",
   "language": "python",
   "name": "python3"
  },
  "language_info": {
   "codemirror_mode": {
    "name": "ipython",
    "version": 3
   },
   "file_extension": ".py",
   "mimetype": "text/x-python",
   "name": "python",
   "nbconvert_exporter": "python",
   "pygments_lexer": "ipython3",
   "version": "3.9.12"
  }
 },
 "nbformat": 4,
 "nbformat_minor": 5
}
